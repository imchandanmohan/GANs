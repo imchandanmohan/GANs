{
  "nbformat": 4,
  "nbformat_minor": 0,
  "metadata": {
    "colab": {
      "name": "P1 Generative Adversarail Network.ipynb",
      "provenance": [],
      "collapsed_sections": []
    },
    "kernelspec": {
      "name": "python3",
      "display_name": "Python 3"
    }
  },
  "cells": [
    {
      "cell_type": "markdown",
      "metadata": {
        "id": "4ikAGswwOw81",
        "colab_type": "text"
      },
      "source": [
        "## **Import** **Libraries**"
      ]
    },
    {
      "cell_type": "code",
      "metadata": {
        "id": "lwMJD0foOksM",
        "colab_type": "code",
        "colab": {}
      },
      "source": [
        "# import tensorflow as tf #Tensorflow lib\n",
        "# import tensorflow.compat.v1 as tf\n",
        "# tf.disable_v2_behavior() \n",
        "import numpy as np\n",
        "import matplotlib.pyplot as plt\n",
        "import random\n",
        "%matplotlib inline\n",
        "import time \n",
        "from google.colab import files"
      ],
      "execution_count": 0,
      "outputs": []
    },
    {
      "cell_type": "code",
      "metadata": {
        "id": "w3GB4R_MPbms",
        "colab_type": "code",
        "colab": {
          "base_uri": "https://localhost:8080/",
          "height": 241
        },
        "outputId": "434ae479-62ac-4a09-cb4e-704af850d743"
      },
      "source": [
        "!pip install tensorflow==1.4"
      ],
      "execution_count": 2,
      "outputs": [
        {
          "output_type": "stream",
          "text": [
            "Requirement already satisfied: tensorflow==1.3 in /usr/local/lib/python3.6/dist-packages (1.4.0)\n",
            "Requirement already satisfied: protobuf>=3.3.0 in /usr/local/lib/python3.6/dist-packages (from tensorflow==1.4) (3.10.0)\n",
            "Requirement already satisfied: enum34>=1.1.6 in /usr/local/lib/python3.6/dist-packages (from tensorflow==1.4) (1.1.10)\n",
            "Requirement already satisfied: wheel>=0.26 in /usr/local/lib/python3.6/dist-packages (from tensorflow==1.4) (0.34.2)\n",
            "Requirement already satisfied: numpy>=1.12.1 in /usr/local/lib/python3.6/dist-packages (from tensorflow==1.4) (1.18.2)\n",
            "Requirement already satisfied: tensorflow-tensorboard<0.5.0,>=0.4.0rc1 in /usr/local/lib/python3.6/dist-packages (from tensorflow==1.4) (0.4.0)\n",
            "Requirement already satisfied: six>=1.10.1 in /usr/local/lib/python3.6/dist-packages (from tensorflow==1.4) (1.12.0)\n",
            "Requirement already satisfied: setuptools in /usr/local/lib/python3.6/dist-packages (from protobuf>=3.3.0->tensorflow==1.4) (46.0.0)\n",
            "Requirement already satisfied: werkzeug>=0.11.10 in /usr/local/lib/python3.6/dist-packages (from tensorflow-tensorboard<0.5.0,>=0.4.0rc1->tensorflow==1.4) (1.0.0)\n",
            "Requirement already satisfied: bleach==1.5.0 in /usr/local/lib/python3.6/dist-packages (from tensorflow-tensorboard<0.5.0,>=0.4.0rc1->tensorflow==1.4) (1.5.0)\n",
            "Requirement already satisfied: markdown>=2.6.8 in /usr/local/lib/python3.6/dist-packages (from tensorflow-tensorboard<0.5.0,>=0.4.0rc1->tensorflow==1.4) (3.2.1)\n",
            "Requirement already satisfied: html5lib==0.99999999 in /usr/local/lib/python3.6/dist-packages (from tensorflow-tensorboard<0.5.0,>=0.4.0rc1->tensorflow==1.4) (0.9999999)\n"
          ],
          "name": "stdout"
        }
      ]
    },
    {
      "cell_type": "markdown",
      "metadata": {
        "id": "yXlvM0eFPC3p",
        "colab_type": "text"
      },
      "source": [
        "# **Import Data**"
      ]
    },
    {
      "cell_type": "code",
      "metadata": {
        "id": "9Js2CeqSOzTg",
        "colab_type": "code",
        "outputId": "1e36a5ff-5929-45d8-9a34-8092f169121c",
        "colab": {
          "base_uri": "https://localhost:8080/",
          "height": 457
        }
      },
      "source": [
        "from tensorflow.examples.tutorials.mnist import input_data\n",
        "mnist = input_data.read_data_sets(\"/MNIST/\",one_hot=True)"
      ],
      "execution_count": 3,
      "outputs": [
        {
          "output_type": "stream",
          "text": [
            "/usr/local/lib/python3.6/dist-packages/tensorflow/python/framework/dtypes.py:469: FutureWarning: Passing (type, 1) or '1type' as a synonym of type is deprecated; in a future version of numpy, it will be understood as (type, (1,)) / '(1,)type'.\n",
            "  _np_qint8 = np.dtype([(\"qint8\", np.int8, 1)])\n",
            "/usr/local/lib/python3.6/dist-packages/tensorflow/python/framework/dtypes.py:470: FutureWarning: Passing (type, 1) or '1type' as a synonym of type is deprecated; in a future version of numpy, it will be understood as (type, (1,)) / '(1,)type'.\n",
            "  _np_quint8 = np.dtype([(\"quint8\", np.uint8, 1)])\n",
            "/usr/local/lib/python3.6/dist-packages/tensorflow/python/framework/dtypes.py:471: FutureWarning: Passing (type, 1) or '1type' as a synonym of type is deprecated; in a future version of numpy, it will be understood as (type, (1,)) / '(1,)type'.\n",
            "  _np_qint16 = np.dtype([(\"qint16\", np.int16, 1)])\n",
            "/usr/local/lib/python3.6/dist-packages/tensorflow/python/framework/dtypes.py:472: FutureWarning: Passing (type, 1) or '1type' as a synonym of type is deprecated; in a future version of numpy, it will be understood as (type, (1,)) / '(1,)type'.\n",
            "  _np_quint16 = np.dtype([(\"quint16\", np.uint16, 1)])\n",
            "/usr/local/lib/python3.6/dist-packages/tensorflow/python/framework/dtypes.py:473: FutureWarning: Passing (type, 1) or '1type' as a synonym of type is deprecated; in a future version of numpy, it will be understood as (type, (1,)) / '(1,)type'.\n",
            "  _np_qint32 = np.dtype([(\"qint32\", np.int32, 1)])\n",
            "/usr/local/lib/python3.6/dist-packages/tensorflow/python/framework/dtypes.py:476: FutureWarning: Passing (type, 1) or '1type' as a synonym of type is deprecated; in a future version of numpy, it will be understood as (type, (1,)) / '(1,)type'.\n",
            "  np_resource = np.dtype([(\"resource\", np.ubyte, 1)])\n",
            "/usr/lib/python3.6/importlib/_bootstrap.py:219: RuntimeWarning: compiletime version 3.5 of module 'tensorflow.python.framework.fast_tensor_util' does not match runtime version 3.6\n",
            "  return f(*args, **kwds)\n"
          ],
          "name": "stderr"
        },
        {
          "output_type": "display_data",
          "data": {
            "text/html": [
              "<p style=\"color: red;\">\n",
              "The default version of TensorFlow in Colab will switch to TensorFlow 2.x on the 27th of March, 2020.<br>\n",
              "We recommend you <a href=\"https://www.tensorflow.org/guide/migrate\" target=\"_blank\">upgrade</a> now\n",
              "or ensure your notebook will continue to use TensorFlow 1.x via the <code>%tensorflow_version 1.x</code> magic:\n",
              "<a href=\"https://colab.research.google.com/notebooks/tensorflow_version.ipynb\" target=\"_blank\">more info</a>.</p>\n"
            ],
            "text/plain": [
              "<IPython.core.display.HTML object>"
            ]
          },
          "metadata": {
            "tags": []
          }
        },
        {
          "output_type": "stream",
          "text": [
            "Successfully downloaded train-images-idx3-ubyte.gz 9912422 bytes.\n",
            "Extracting /MNIST/train-images-idx3-ubyte.gz\n",
            "Successfully downloaded train-labels-idx1-ubyte.gz 28881 bytes.\n",
            "Extracting /MNIST/train-labels-idx1-ubyte.gz\n",
            "Successfully downloaded t10k-images-idx3-ubyte.gz 1648877 bytes.\n",
            "Extracting /MNIST/t10k-images-idx3-ubyte.gz\n",
            "Successfully downloaded t10k-labels-idx1-ubyte.gz 4542 bytes.\n",
            "Extracting /MNIST/t10k-labels-idx1-ubyte.gz\n"
          ],
          "name": "stdout"
        }
      ]
    },
    {
      "cell_type": "code",
      "metadata": {
        "id": "YXx9yXwePzmk",
        "colab_type": "code",
        "outputId": "6017074b-11cb-4725-86fd-e5c88d4aaf39",
        "colab": {
          "base_uri": "https://localhost:8080/",
          "height": 282
        }
      },
      "source": [
        "import tensorflow as tf\n",
        "i = random.randint(0,mnist.train.images.shape[0])\n",
        "plt.imshow(mnist.train.images[i].reshape(28,28), cmap=\"bone\")"
      ],
      "execution_count": 13,
      "outputs": [
        {
          "output_type": "execute_result",
          "data": {
            "text/plain": [
              "<matplotlib.image.AxesImage at 0x7f73be33ecf8>"
            ]
          },
          "metadata": {
            "tags": []
          },
          "execution_count": 13
        },
        {
          "output_type": "display_data",
          "data": {
            "image/png": "[encoded data removed]",
            "text/plain": [
              "<Figure size 432x288 with 1 Axes>"
            ]
          },
          "metadata": {
            "tags": []
          }
        }
      ]
    },
    {
      "cell_type": "markdown",
      "metadata": {
        "id": "SqmSze9mS44F",
        "colab_type": "text"
      },
      "source": [
        "# **Generator Model**"
      ]
    },
    {
      "cell_type": "code",
      "metadata": {
        "id": "fis8kwylRs8h",
        "colab_type": "code",
        "colab": {}
      },
      "source": [
        "def Generator(z,reuse=None):\n",
        "  alpha = 0.01\n",
        "  with tf.variable_scope(\"gen\", reuse=reuse):\n",
        "    h1 = tf.layers.dense(inputs=z, units=128)\n",
        "    h1 = tf.maximum(alpha*h1, h1)\n",
        "    h2 = tf.layers.dense(inputs = h1, units=128)\n",
        "    h2 = tf.maximum(alpha*h2, h2)\n",
        "    output = tf.layers.dense(h2, units=784, activation=tf.nn.tanh)\n",
        "    return output"
      ],
      "execution_count": 0,
      "outputs": []
    },
    {
      "cell_type": "markdown",
      "metadata": {
        "id": "3rPQwl4rYEGk",
        "colab_type": "text"
      },
      "source": [
        "# **Discriminator Model**"
      ]
    },
    {
      "cell_type": "code",
      "metadata": {
        "id": "JFQynXrIXFZk",
        "colab_type": "code",
        "colab": {}
      },
      "source": [
        "def Discriminator(x, reuse=None):\n",
        "  alpha = 0.01\n",
        "  with tf.variable_scope(\"dis\", reuse=reuse):\n",
        "    h1 = tf.layers.dense(inputs=x, units=128)\n",
        "    h1 = tf.maximum(alpha*h1, h1)\n",
        "    h2 = tf.layers.dense(inputs = h1, units=128)\n",
        "    h2 = tf.maximum(alpha*h2, h2)\n",
        "    logits = tf.layers.dense(h2, units=1)\n",
        "    output = tf.sigmoid(logits)\n",
        "    return output, logits"
      ],
      "execution_count": 0,
      "outputs": []
    },
    {
      "cell_type": "markdown",
      "metadata": {
        "id": "Q6DE-F9iYVFl",
        "colab_type": "text"
      },
      "source": [
        "# **Placeholders**"
      ]
    },
    {
      "cell_type": "code",
      "metadata": {
        "id": "RwZf1kqSYCYP",
        "colab_type": "code",
        "colab": {}
      },
      "source": [
        "real_images = tf.placeholder(tf.float32, shape=[None,784])\n",
        "z = tf.placeholder(tf.float32, shape=[None,100])"
      ],
      "execution_count": 0,
      "outputs": []
    },
    {
      "cell_type": "markdown",
      "metadata": {
        "id": "UdrYuagzZL3-",
        "colab_type": "text"
      },
      "source": [
        "# Generator"
      ]
    },
    {
      "cell_type": "code",
      "metadata": {
        "id": "JduIugICY-u_",
        "colab_type": "code",
        "colab": {}
      },
      "source": [
        "G = Generator(z)"
      ],
      "execution_count": 0,
      "outputs": []
    },
    {
      "cell_type": "markdown",
      "metadata": {
        "id": "AygrEObMf6NB",
        "colab_type": "text"
      },
      "source": [
        "# **Discriminator**"
      ]
    },
    {
      "cell_type": "code",
      "metadata": {
        "id": "I_GcZcY3ZtmX",
        "colab_type": "code",
        "colab": {}
      },
      "source": [
        "D_output_real , D_logits_real = Discriminator(real_images)\n",
        "D_output_fake, D_logits_fake = Discriminator(G,reuse=True)"
      ],
      "execution_count": 0,
      "outputs": []
    },
    {
      "cell_type": "markdown",
      "metadata": {
        "id": "fWcsSfJOglPV",
        "colab_type": "text"
      },
      "source": [
        "# **Loss Function**"
      ]
    },
    {
      "cell_type": "code",
      "metadata": {
        "id": "xuwIY5dCgF8d",
        "colab_type": "code",
        "colab": {}
      },
      "source": [
        "def loss_func(logits_in,labels_in):\n",
        "    return tf.reduce_mean(tf.nn.sigmoid_cross_entropy_with_logits(logits=logits_in,labels=labels_in))"
      ],
      "execution_count": 0,
      "outputs": []
    },
    {
      "cell_type": "code",
      "metadata": {
        "id": "Tt6qL_m_gxuZ",
        "colab_type": "code",
        "colab": {}
      },
      "source": [
        "D_real_loss = loss_func(D_logits_real,tf.ones_like(D_logits_real)* (0.9))\n",
        "D_fake_loss = loss_func(D_logits_fake,tf.zeros_like(D_logits_real))\n",
        "D_loss = D_real_loss + D_fake_loss\n",
        "G_loss = loss_func(D_logits_fake,tf.ones_like(D_logits_fake))"
      ],
      "execution_count": 0,
      "outputs": []
    },
    {
      "cell_type": "markdown",
      "metadata": {
        "id": "rn6AB8NDhHua",
        "colab_type": "text"
      },
      "source": [
        "# **Optimizer**"
      ]
    },
    {
      "cell_type": "code",
      "metadata": {
        "id": "jJAkw0sjg-NG",
        "colab_type": "code",
        "outputId": "13061307-09a6-439a-aa7b-07ee8853ca15",
        "colab": {
          "base_uri": "https://localhost:8080/",
          "height": 51
        }
      },
      "source": [
        "tvars = tf.trainable_variables()\n",
        "\n",
        "d_vars = [var for var in tvars if 'dis' in var.name]\n",
        "g_vars = [var for var in tvars if 'gen' in var.name]\n",
        "\n",
        "print([v.name for v in d_vars])\n",
        "print([v.name for v in g_vars])"
      ],
      "execution_count": 21,
      "outputs": [
        {
          "output_type": "stream",
          "text": [
            "['dis/dense/kernel:0', 'dis/dense/bias:0', 'dis/dense_1/kernel:0', 'dis/dense_1/bias:0', 'dis/dense_2/kernel:0', 'dis/dense_2/bias:0']\n",
            "['gen/dense/kernel:0', 'gen/dense/bias:0', 'gen/dense_1/kernel:0', 'gen/dense_1/bias:0', 'gen/dense_2/kernel:0', 'gen/dense_2/bias:0']\n"
          ],
          "name": "stdout"
        }
      ]
    },
    {
      "cell_type": "code",
      "metadata": {
        "id": "uvio_BQ5hY_e",
        "colab_type": "code",
        "colab": {}
      },
      "source": [
        "learning_rate = 0.01\n",
        "D_trainer = tf.train.AdamOptimizer(learning_rate).minimize(D_loss, var_list=d_vars)\n",
        "G_trainer = tf.train.AdamOptimizer(learning_rate).minimize(G_loss, var_list=g_vars)"
      ],
      "execution_count": 0,
      "outputs": []
    },
    {
      "cell_type": "markdown",
      "metadata": {
        "id": "hqEApsDshn-A",
        "colab_type": "text"
      },
      "source": [
        "# Training Section"
      ]
    },
    {
      "cell_type": "code",
      "metadata": {
        "id": "fJHwF3f_hk7J",
        "colab_type": "code",
        "outputId": "21335738-ae50-4b4c-c86f-15d72f77994a",
        "colab": {
          "base_uri": "https://localhost:8080/",
          "height": 1000
        }
      },
      "source": [
        "batch_size = 100\n",
        "epochs = 500\n",
        "init = tf.global_variables_initializer()\n",
        "saver = tf.train.Saver(var_list=g_vars)\n",
        "# Save a sample per epoch\n",
        "samples = []\n",
        "count = 0\n",
        "\n",
        "with tf.Session() as sess:\n",
        "    \n",
        "    sess.run(init)\n",
        "    \n",
        "    # Recall an epoch is an entire run through the training data\n",
        "    for e in range(epochs):\n",
        "        # // indicates classic division\n",
        "        num_batches = mnist.train.num_examples // batch_size\n",
        "        \n",
        "        for i in range(num_batches):\n",
        "            \n",
        "            # Grab batch of images\n",
        "            batch = mnist.train.next_batch(batch_size)\n",
        "            \n",
        "            # Get images, reshape and rescale to pass to D\n",
        "            batch_images = batch[0].reshape((batch_size, 784))\n",
        "            batch_images = batch_images*2 - 1\n",
        "            \n",
        "            # Z (random latent noise data for Generator)\n",
        "            # -1 to 1 because of tanh activation\n",
        "            batch_z = np.random.uniform(-1, 1, size=(batch_size, 100))\n",
        "            \n",
        "            # Run optimizers, no need to save outputs, we won't use them\n",
        "            _ = sess.run(D_trainer, feed_dict={real_images: batch_images, z: batch_z})\n",
        "            _ = sess.run(G_trainer, feed_dict={z: batch_z})\n",
        "        \n",
        "            \n",
        "        print(\"Currently on Epoch {} of {} total...\".format(e+1, epochs))\n",
        "        \n",
        "        # Sample from generator as we're training for viewing afterwards\n",
        "        sample_z = np.random.uniform(-1, 1, size=(1, 100))\n",
        "        gen_sample = sess.run(Generator(z ,reuse=True),feed_dict={z: sample_z})\n",
        "        \n",
        "        samples.append(gen_sample)\n",
        "        if count % 20 == 0:\n",
        "          plt.imshow(samples[0].reshape(28,28),cmap='bone')\n",
        "        count+=1\n",
        "\n",
        "        \n",
        "#         saver.save(sess, './models/500_epoch_model.ckpt')"
      ],
      "execution_count": 0,
      "outputs": [
        {
          "output_type": "stream",
          "text": [
            "Currently on Epoch 1 of 500 total...\n",
            "Currently on Epoch 2 of 500 total...\n",
            "Currently on Epoch 3 of 500 total...\n",
            "Currently on Epoch 4 of 500 total...\n",
            "Currently on Epoch 5 of 500 total...\n",
            "Currently on Epoch 6 of 500 total...\n",
            "Currently on Epoch 7 of 500 total...\n",
            "Currently on Epoch 8 of 500 total...\n",
            "Currently on Epoch 9 of 500 total...\n",
            "Currently on Epoch 10 of 500 total...\n",
            "Currently on Epoch 11 of 500 total...\n",
            "Currently on Epoch 12 of 500 total...\n",
            "Currently on Epoch 13 of 500 total...\n",
            "Currently on Epoch 14 of 500 total...\n",
            "Currently on Epoch 15 of 500 total...\n",
            "Currently on Epoch 16 of 500 total...\n",
            "Currently on Epoch 17 of 500 total...\n",
            "Currently on Epoch 18 of 500 total...\n",
            "Currently on Epoch 19 of 500 total...\n",
            "Currently on Epoch 20 of 500 total...\n",
            "Currently on Epoch 21 of 500 total...\n",
            "Currently on Epoch 22 of 500 total...\n",
            "Currently on Epoch 23 of 500 total...\n",
            "Currently on Epoch 24 of 500 total...\n",
            "Currently on Epoch 25 of 500 total...\n",
            "Currently on Epoch 26 of 500 total...\n",
            "Currently on Epoch 27 of 500 total...\n",
            "Currently on Epoch 28 of 500 total...\n",
            "Currently on Epoch 29 of 500 total...\n",
            "Currently on Epoch 30 of 500 total...\n",
            "Currently on Epoch 31 of 500 total...\n",
            "Currently on Epoch 32 of 500 total...\n",
            "Currently on Epoch 33 of 500 total...\n",
            "Currently on Epoch 34 of 500 total...\n",
            "Currently on Epoch 35 of 500 total...\n",
            "Currently on Epoch 36 of 500 total...\n",
            "Currently on Epoch 37 of 500 total...\n",
            "Currently on Epoch 38 of 500 total...\n",
            "Currently on Epoch 39 of 500 total...\n",
            "Currently on Epoch 40 of 500 total...\n",
            "Currently on Epoch 41 of 500 total...\n",
            "Currently on Epoch 42 of 500 total...\n",
            "Currently on Epoch 43 of 500 total...\n",
            "Currently on Epoch 44 of 500 total...\n",
            "Currently on Epoch 45 of 500 total...\n",
            "Currently on Epoch 46 of 500 total...\n",
            "Currently on Epoch 47 of 500 total...\n",
            "Currently on Epoch 48 of 500 total...\n",
            "Currently on Epoch 49 of 500 total...\n",
            "Currently on Epoch 50 of 500 total...\n",
            "Currently on Epoch 51 of 500 total...\n",
            "Currently on Epoch 52 of 500 total...\n",
            "Currently on Epoch 53 of 500 total...\n",
            "Currently on Epoch 54 of 500 total...\n",
            "Currently on Epoch 55 of 500 total...\n",
            "Currently on Epoch 56 of 500 total...\n",
            "Currently on Epoch 57 of 500 total...\n",
            "Currently on Epoch 58 of 500 total...\n",
            "Currently on Epoch 59 of 500 total...\n",
            "Currently on Epoch 60 of 500 total...\n",
            "Currently on Epoch 61 of 500 total...\n",
            "Currently on Epoch 62 of 500 total...\n",
            "Currently on Epoch 63 of 500 total...\n",
            "Currently on Epoch 64 of 500 total...\n",
            "Currently on Epoch 65 of 500 total...\n",
            "Currently on Epoch 66 of 500 total...\n",
            "Currently on Epoch 67 of 500 total...\n",
            "Currently on Epoch 68 of 500 total...\n",
            "Currently on Epoch 69 of 500 total...\n",
            "Currently on Epoch 70 of 500 total...\n",
            "Currently on Epoch 71 of 500 total...\n",
            "Currently on Epoch 72 of 500 total...\n",
            "Currently on Epoch 73 of 500 total...\n",
            "Currently on Epoch 74 of 500 total...\n",
            "Currently on Epoch 75 of 500 total...\n",
            "Currently on Epoch 76 of 500 total...\n",
            "Currently on Epoch 77 of 500 total...\n",
            "Currently on Epoch 78 of 500 total...\n",
            "Currently on Epoch 79 of 500 total...\n",
            "Currently on Epoch 80 of 500 total...\n",
            "Currently on Epoch 81 of 500 total...\n",
            "Currently on Epoch 82 of 500 total...\n",
            "Currently on Epoch 83 of 500 total...\n",
            "Currently on Epoch 84 of 500 total...\n",
            "Currently on Epoch 85 of 500 total...\n",
            "Currently on Epoch 86 of 500 total...\n",
            "Currently on Epoch 87 of 500 total...\n",
            "Currently on Epoch 88 of 500 total...\n",
            "Currently on Epoch 89 of 500 total...\n",
            "Currently on Epoch 90 of 500 total...\n",
            "Currently on Epoch 91 of 500 total...\n",
            "Currently on Epoch 92 of 500 total...\n",
            "Currently on Epoch 93 of 500 total...\n",
            "Currently on Epoch 94 of 500 total...\n",
            "Currently on Epoch 95 of 500 total...\n",
            "Currently on Epoch 96 of 500 total...\n",
            "Currently on Epoch 97 of 500 total...\n",
            "Currently on Epoch 98 of 500 total...\n",
            "Currently on Epoch 99 of 500 total...\n",
            "Currently on Epoch 100 of 500 total...\n",
            "Currently on Epoch 101 of 500 total...\n",
            "Currently on Epoch 102 of 500 total...\n",
            "Currently on Epoch 103 of 500 total...\n",
            "Currently on Epoch 104 of 500 total...\n",
            "Currently on Epoch 105 of 500 total...\n",
            "Currently on Epoch 106 of 500 total...\n",
            "Currently on Epoch 107 of 500 total...\n",
            "Currently on Epoch 108 of 500 total...\n",
            "Currently on Epoch 109 of 500 total...\n",
            "Currently on Epoch 110 of 500 total...\n",
            "Currently on Epoch 111 of 500 total...\n",
            "Currently on Epoch 112 of 500 total...\n",
            "Currently on Epoch 113 of 500 total...\n",
            "Currently on Epoch 114 of 500 total...\n",
            "Currently on Epoch 115 of 500 total...\n",
            "Currently on Epoch 116 of 500 total...\n",
            "Currently on Epoch 117 of 500 total...\n",
            "Currently on Epoch 118 of 500 total...\n",
            "Currently on Epoch 119 of 500 total...\n",
            "Currently on Epoch 120 of 500 total...\n",
            "Currently on Epoch 121 of 500 total...\n",
            "Currently on Epoch 122 of 500 total...\n",
            "Currently on Epoch 123 of 500 total...\n",
            "Currently on Epoch 124 of 500 total...\n",
            "Currently on Epoch 125 of 500 total...\n",
            "Currently on Epoch 126 of 500 total...\n",
            "Currently on Epoch 127 of 500 total...\n",
            "Currently on Epoch 128 of 500 total...\n",
            "Currently on Epoch 129 of 500 total...\n",
            "Currently on Epoch 130 of 500 total...\n",
            "Currently on Epoch 131 of 500 total...\n",
            "Currently on Epoch 132 of 500 total...\n",
            "Currently on Epoch 133 of 500 total...\n",
            "Currently on Epoch 134 of 500 total...\n",
            "Currently on Epoch 135 of 500 total...\n",
            "Currently on Epoch 136 of 500 total...\n",
            "Currently on Epoch 137 of 500 total...\n",
            "Currently on Epoch 138 of 500 total...\n",
            "Currently on Epoch 139 of 500 total...\n",
            "Currently on Epoch 140 of 500 total...\n",
            "Currently on Epoch 141 of 500 total...\n",
            "Currently on Epoch 142 of 500 total...\n",
            "Currently on Epoch 143 of 500 total...\n",
            "Currently on Epoch 144 of 500 total...\n",
            "Currently on Epoch 145 of 500 total...\n",
            "Currently on Epoch 146 of 500 total...\n",
            "Currently on Epoch 147 of 500 total...\n",
            "Currently on Epoch 148 of 500 total...\n",
            "Currently on Epoch 149 of 500 total...\n",
            "Currently on Epoch 150 of 500 total...\n",
            "Currently on Epoch 151 of 500 total...\n",
            "Currently on Epoch 152 of 500 total...\n",
            "Currently on Epoch 153 of 500 total...\n",
            "Currently on Epoch 154 of 500 total...\n",
            "Currently on Epoch 155 of 500 total...\n",
            "Currently on Epoch 156 of 500 total...\n",
            "Currently on Epoch 157 of 500 total...\n",
            "Currently on Epoch 158 of 500 total...\n",
            "Currently on Epoch 159 of 500 total...\n",
            "Currently on Epoch 160 of 500 total...\n",
            "Currently on Epoch 161 of 500 total...\n",
            "Currently on Epoch 162 of 500 total...\n",
            "Currently on Epoch 163 of 500 total...\n",
            "Currently on Epoch 164 of 500 total...\n",
            "Currently on Epoch 165 of 500 total...\n",
            "Currently on Epoch 166 of 500 total...\n",
            "Currently on Epoch 167 of 500 total...\n",
            "Currently on Epoch 168 of 500 total...\n",
            "Currently on Epoch 169 of 500 total...\n",
            "Currently on Epoch 170 of 500 total...\n",
            "Currently on Epoch 171 of 500 total...\n",
            "Currently on Epoch 172 of 500 total...\n",
            "Currently on Epoch 173 of 500 total...\n",
            "Currently on Epoch 174 of 500 total...\n",
            "Currently on Epoch 175 of 500 total...\n",
            "Currently on Epoch 176 of 500 total...\n",
            "Currently on Epoch 177 of 500 total...\n",
            "Currently on Epoch 178 of 500 total...\n",
            "Currently on Epoch 179 of 500 total...\n",
            "Currently on Epoch 180 of 500 total...\n",
            "Currently on Epoch 181 of 500 total...\n",
            "Currently on Epoch 182 of 500 total...\n",
            "Currently on Epoch 183 of 500 total...\n",
            "Currently on Epoch 184 of 500 total...\n",
            "Currently on Epoch 185 of 500 total...\n",
            "Currently on Epoch 186 of 500 total...\n",
            "Currently on Epoch 187 of 500 total...\n",
            "Currently on Epoch 188 of 500 total...\n",
            "Currently on Epoch 189 of 500 total...\n",
            "Currently on Epoch 190 of 500 total...\n",
            "Currently on Epoch 191 of 500 total...\n",
            "Currently on Epoch 192 of 500 total...\n",
            "Currently on Epoch 193 of 500 total...\n",
            "Currently on Epoch 194 of 500 total...\n",
            "Currently on Epoch 195 of 500 total...\n",
            "Currently on Epoch 196 of 500 total...\n",
            "Currently on Epoch 197 of 500 total...\n",
            "Currently on Epoch 198 of 500 total...\n",
            "Currently on Epoch 199 of 500 total...\n",
            "Currently on Epoch 200 of 500 total...\n",
            "Currently on Epoch 201 of 500 total...\n",
            "Currently on Epoch 202 of 500 total...\n",
            "Currently on Epoch 203 of 500 total...\n",
            "Currently on Epoch 204 of 500 total...\n",
            "Currently on Epoch 205 of 500 total...\n",
            "Currently on Epoch 206 of 500 total...\n",
            "Currently on Epoch 207 of 500 total...\n",
            "Currently on Epoch 208 of 500 total...\n",
            "Currently on Epoch 209 of 500 total...\n",
            "Currently on Epoch 210 of 500 total...\n",
            "Currently on Epoch 211 of 500 total...\n",
            "Currently on Epoch 212 of 500 total...\n",
            "Currently on Epoch 213 of 500 total...\n",
            "Currently on Epoch 214 of 500 total...\n",
            "Currently on Epoch 215 of 500 total...\n",
            "Currently on Epoch 216 of 500 total...\n",
            "Currently on Epoch 217 of 500 total...\n",
            "Currently on Epoch 218 of 500 total...\n",
            "Currently on Epoch 219 of 500 total...\n",
            "Currently on Epoch 220 of 500 total...\n",
            "Currently on Epoch 221 of 500 total...\n",
            "Currently on Epoch 222 of 500 total...\n",
            "Currently on Epoch 223 of 500 total...\n",
            "Currently on Epoch 224 of 500 total...\n",
            "Currently on Epoch 225 of 500 total...\n",
            "Currently on Epoch 226 of 500 total...\n",
            "Currently on Epoch 227 of 500 total...\n",
            "Currently on Epoch 228 of 500 total...\n",
            "Currently on Epoch 229 of 500 total...\n",
            "Currently on Epoch 230 of 500 total...\n",
            "Currently on Epoch 231 of 500 total...\n",
            "Currently on Epoch 232 of 500 total...\n",
            "Currently on Epoch 233 of 500 total...\n",
            "Currently on Epoch 234 of 500 total...\n",
            "Currently on Epoch 235 of 500 total...\n",
            "Currently on Epoch 236 of 500 total...\n",
            "Currently on Epoch 237 of 500 total...\n",
            "Currently on Epoch 238 of 500 total...\n",
            "Currently on Epoch 239 of 500 total...\n",
            "Currently on Epoch 240 of 500 total...\n",
            "Currently on Epoch 241 of 500 total...\n",
            "Currently on Epoch 242 of 500 total...\n",
            "Currently on Epoch 243 of 500 total...\n",
            "Currently on Epoch 244 of 500 total...\n",
            "Currently on Epoch 245 of 500 total...\n",
            "Currently on Epoch 246 of 500 total...\n",
            "Currently on Epoch 247 of 500 total...\n",
            "Currently on Epoch 248 of 500 total...\n",
            "Currently on Epoch 249 of 500 total...\n",
            "Currently on Epoch 250 of 500 total...\n",
            "Currently on Epoch 251 of 500 total...\n",
            "Currently on Epoch 252 of 500 total...\n",
            "Currently on Epoch 253 of 500 total...\n",
            "Currently on Epoch 254 of 500 total...\n",
            "Currently on Epoch 255 of 500 total...\n",
            "Currently on Epoch 256 of 500 total...\n",
            "Currently on Epoch 257 of 500 total...\n",
            "Currently on Epoch 258 of 500 total...\n",
            "Currently on Epoch 259 of 500 total...\n",
            "Currently on Epoch 260 of 500 total...\n",
            "Currently on Epoch 261 of 500 total...\n",
            "Currently on Epoch 262 of 500 total...\n",
            "Currently on Epoch 263 of 500 total...\n",
            "Currently on Epoch 264 of 500 total...\n",
            "Currently on Epoch 265 of 500 total...\n",
            "Currently on Epoch 266 of 500 total...\n",
            "Currently on Epoch 267 of 500 total...\n",
            "Currently on Epoch 268 of 500 total...\n",
            "Currently on Epoch 269 of 500 total...\n",
            "Currently on Epoch 270 of 500 total...\n",
            "Currently on Epoch 271 of 500 total...\n",
            "Currently on Epoch 272 of 500 total...\n",
            "Currently on Epoch 273 of 500 total...\n",
            "Currently on Epoch 274 of 500 total...\n",
            "Currently on Epoch 275 of 500 total...\n",
            "Currently on Epoch 276 of 500 total...\n",
            "Currently on Epoch 277 of 500 total...\n",
            "Currently on Epoch 278 of 500 total...\n",
            "Currently on Epoch 279 of 500 total...\n",
            "Currently on Epoch 280 of 500 total...\n",
            "Currently on Epoch 281 of 500 total...\n",
            "Currently on Epoch 282 of 500 total...\n",
            "Currently on Epoch 283 of 500 total...\n",
            "Currently on Epoch 284 of 500 total...\n",
            "Currently on Epoch 285 of 500 total...\n",
            "Currently on Epoch 286 of 500 total...\n",
            "Currently on Epoch 287 of 500 total...\n",
            "Currently on Epoch 288 of 500 total...\n",
            "Currently on Epoch 289 of 500 total...\n",
            "Currently on Epoch 290 of 500 total...\n",
            "Currently on Epoch 291 of 500 total...\n",
            "Currently on Epoch 292 of 500 total...\n",
            "Currently on Epoch 293 of 500 total...\n",
            "Currently on Epoch 294 of 500 total...\n",
            "Currently on Epoch 295 of 500 total...\n",
            "Currently on Epoch 296 of 500 total...\n",
            "Currently on Epoch 297 of 500 total...\n",
            "Currently on Epoch 298 of 500 total...\n",
            "Currently on Epoch 299 of 500 total...\n",
            "Currently on Epoch 300 of 500 total...\n",
            "Currently on Epoch 301 of 500 total...\n",
            "Currently on Epoch 302 of 500 total...\n",
            "Currently on Epoch 303 of 500 total...\n",
            "Currently on Epoch 304 of 500 total...\n",
            "Currently on Epoch 305 of 500 total...\n",
            "Currently on Epoch 306 of 500 total...\n",
            "Currently on Epoch 307 of 500 total...\n",
            "Currently on Epoch 308 of 500 total...\n",
            "Currently on Epoch 309 of 500 total...\n",
            "Currently on Epoch 310 of 500 total...\n",
            "Currently on Epoch 311 of 500 total...\n",
            "Currently on Epoch 312 of 500 total...\n",
            "Currently on Epoch 313 of 500 total...\n",
            "Currently on Epoch 314 of 500 total...\n",
            "Currently on Epoch 315 of 500 total...\n",
            "Currently on Epoch 316 of 500 total...\n",
            "Currently on Epoch 317 of 500 total...\n",
            "Currently on Epoch 318 of 500 total...\n",
            "Currently on Epoch 319 of 500 total...\n",
            "Currently on Epoch 320 of 500 total...\n",
            "Currently on Epoch 321 of 500 total...\n",
            "Currently on Epoch 322 of 500 total...\n",
            "Currently on Epoch 323 of 500 total...\n",
            "Currently on Epoch 324 of 500 total...\n",
            "Currently on Epoch 325 of 500 total...\n",
            "Currently on Epoch 326 of 500 total...\n",
            "Currently on Epoch 327 of 500 total...\n",
            "Currently on Epoch 328 of 500 total...\n",
            "Currently on Epoch 329 of 500 total...\n",
            "Currently on Epoch 330 of 500 total...\n",
            "Currently on Epoch 331 of 500 total...\n",
            "Currently on Epoch 332 of 500 total...\n",
            "Currently on Epoch 333 of 500 total...\n",
            "Currently on Epoch 334 of 500 total...\n",
            "Currently on Epoch 335 of 500 total...\n",
            "Currently on Epoch 336 of 500 total...\n",
            "Currently on Epoch 337 of 500 total...\n",
            "Currently on Epoch 338 of 500 total...\n",
            "Currently on Epoch 339 of 500 total...\n",
            "Currently on Epoch 340 of 500 total...\n",
            "Currently on Epoch 341 of 500 total...\n",
            "Currently on Epoch 342 of 500 total...\n",
            "Currently on Epoch 343 of 500 total...\n",
            "Currently on Epoch 344 of 500 total...\n",
            "Currently on Epoch 345 of 500 total...\n",
            "Currently on Epoch 346 of 500 total...\n",
            "Currently on Epoch 347 of 500 total...\n",
            "Currently on Epoch 348 of 500 total...\n",
            "Currently on Epoch 349 of 500 total...\n",
            "Currently on Epoch 350 of 500 total...\n",
            "Currently on Epoch 351 of 500 total...\n",
            "Currently on Epoch 352 of 500 total...\n",
            "Currently on Epoch 353 of 500 total...\n",
            "Currently on Epoch 354 of 500 total...\n",
            "Currently on Epoch 355 of 500 total...\n",
            "Currently on Epoch 356 of 500 total...\n",
            "Currently on Epoch 357 of 500 total...\n",
            "Currently on Epoch 358 of 500 total...\n",
            "Currently on Epoch 359 of 500 total...\n",
            "Currently on Epoch 360 of 500 total...\n",
            "Currently on Epoch 361 of 500 total...\n",
            "Currently on Epoch 362 of 500 total...\n",
            "Currently on Epoch 363 of 500 total...\n",
            "Currently on Epoch 364 of 500 total...\n",
            "Currently on Epoch 365 of 500 total...\n",
            "Currently on Epoch 366 of 500 total...\n",
            "Currently on Epoch 367 of 500 total...\n",
            "Currently on Epoch 368 of 500 total...\n",
            "Currently on Epoch 369 of 500 total...\n",
            "Currently on Epoch 370 of 500 total...\n",
            "Currently on Epoch 371 of 500 total...\n",
            "Currently on Epoch 372 of 500 total...\n",
            "Currently on Epoch 373 of 500 total...\n",
            "Currently on Epoch 374 of 500 total...\n",
            "Currently on Epoch 375 of 500 total...\n",
            "Currently on Epoch 376 of 500 total...\n",
            "Currently on Epoch 377 of 500 total...\n",
            "Currently on Epoch 378 of 500 total...\n",
            "Currently on Epoch 379 of 500 total...\n",
            "Currently on Epoch 380 of 500 total...\n",
            "Currently on Epoch 381 of 500 total...\n",
            "Currently on Epoch 382 of 500 total...\n",
            "Currently on Epoch 383 of 500 total...\n",
            "Currently on Epoch 384 of 500 total...\n",
            "Currently on Epoch 385 of 500 total...\n",
            "Currently on Epoch 386 of 500 total...\n",
            "Currently on Epoch 387 of 500 total...\n",
            "Currently on Epoch 388 of 500 total...\n",
            "Currently on Epoch 389 of 500 total...\n",
            "Currently on Epoch 390 of 500 total...\n"
          ],
          "name": "stdout"
        }
      ]
    },
    {
      "cell_type": "code",
      "metadata": {
        "id": "q-259RpAiWQY",
        "colab_type": "code",
        "colab": {}
      },
      "source": [
        "plt.imshow(samples[0].reshape(28,28),cmap='bone')"
      ],
      "execution_count": 0,
      "outputs": []
    }
  ]
}
